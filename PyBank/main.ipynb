{
 "cells": [
  {
   "cell_type": "code",
   "execution_count": 39,
   "id": "32ed4c13-7abc-458f-b6e4-9de7e04a0b8c",
   "metadata": {},
   "outputs": [],
   "source": [
    "#Import pathlib and csv library\n",
    "from pathlib import Path\n",
    "\n",
    "import os\n",
    "import csv"
   ]
  },
  {
   "cell_type": "code",
   "execution_count": 40,
   "id": "d2801886-675e-4b31-93be-a0dcf2e0b780",
   "metadata": {
    "tags": []
   },
   "outputs": [],
   "source": [
    "#Setting file path to budget_data.csv \n",
    "budget_data = Path('./Resources/budget_data.csv') "
   ]
  },
  {
   "cell_type": "code",
   "execution_count": 41,
   "id": "4c0611d6-3a77-432a-a1b5-4e9c285ace03",
   "metadata": {},
   "outputs": [],
   "source": [
    "#Declare the variables/create lists\n",
    "months = []\n",
    "profits = []\n",
    "profit_change = []"
   ]
  },
  {
   "cell_type": "code",
   "execution_count": 42,
   "id": "b861654d-3b9e-4198-9466-5b5b631546d9",
   "metadata": {},
   "outputs": [
    {
     "name": "stdout",
     "output_type": "stream",
     "text": [
      "Header: Date,Profit/Losses\n",
      "\n"
     ]
    }
   ],
   "source": [
    "#Open the csv file \n",
    "with open(budget_data) as csvfile:\n",
    "    csvreader = csv.reader(csvfile, delimiter=',')\n",
    "    \n",
    "    #Skip header row to avoid miscounting row data\n",
    "    csv_header = next(csvfile)\n",
    "    print(f\"Header: {csv_header}\")\n",
    "    \n",
    "    #Read each row of data after the header\n",
    "    for row in csvreader:\n",
    "        #total months and net profit/loss\n",
    "        months.append(row[0])\n",
    "        profits.append(int(row[1]))\n",
    "    \n",
    "    #Calculate total number (length) of months\n",
    "    total_months = len(months)\n",
    "    \n",
    "    #Calculate profit/loss change over the entire period\n",
    "    for i in range(1, len(profits)):\n",
    "        profit_change.append((int(profits[i]) - int(profits[i-1])))\n",
    "    \n",
    "    #Calculate average of profit/loss change\n",
    "    profit_average = sum(profit_change) / len(profit_change)\n",
    "    \n",
    "    #Calculate greatest increase in profits \n",
    "    increase = max(profit_change)\n",
    "    \n",
    "    #Calculate greatest decrease in profits\n",
    "    decrease = min(profit_change)\n",
    "    "
   ]
  },
  {
   "cell_type": "code",
   "execution_count": 43,
   "id": "825159ed-9b3f-4ccd-b2b7-07e2f5d11149",
   "metadata": {},
   "outputs": [
    {
     "name": "stdout",
     "output_type": "stream",
     "text": [
      "Financial Analysis\n",
      "----------------------------------------------------------\n",
      "Total Months: 86\n",
      "Net Total: $38382578\n",
      "Average Change: $-2315.1176470588234\n",
      "\n",
      "Greatest Increase in Profits: Feb-2012 ($1926159)\n",
      "Greatest Decrease in Profits: Sep-2013 ($-2196167)\n",
      "----------------------------------------------------------\n"
     ]
    }
   ],
   "source": [
    "#Print results\n",
    "print(\"Financial Analysis\")\n",
    "print(\"----------------------------------------------------------\")\n",
    "print(\"Total Months: \" + str(total_months))\n",
    "print(\"Net Total: $\" + str(sum(profits)))\n",
    "print(\"Average Change: $\" + str(profit_average))\n",
    "print()\n",
    "print(\"Greatest Increase in Profits: \" + str(months[profit_change. index(max(profit_change))+1]) + \" ($\" + str(increase) + \")\")\n",
    "print(\"Greatest Decrease in Profits: \" + str(months[profit_change. index(min(profit_change))+1]) + \" ($\" + str(decrease) + \")\")\n",
    "print(\"----------------------------------------------------------\")"
   ]
  },
  {
   "cell_type": "code",
   "execution_count": 44,
   "id": "97d09965-3898-48cc-b4c0-cb350340e768",
   "metadata": {},
   "outputs": [],
   "source": [
    "#Export output to a text file for results\n",
    "file = open(\"output.txt\",\"w\")\n",
    "file.write(\"Financial Analysis\" + \"\\n\")\n",
    "file.write(\"----------------------------------------------------------\" + \"\\n\")\n",
    "file.write(\"Total Months: \" + str(total_months) + \"\\n\")\n",
    "file.write(\"Net Total: $\" + str(sum(profits)) + \"\\n\")\n",
    "file.write(\"Average Change: $\" + str(profit_average) + \"\\n\")\n",
    "file.write(\"Greatest Increase in Profits: \" + str(months[profit_change. index(max(profit_change))+1]) + \" ($\" + str(increase) + \")\" + \"\\n\")\n",
    "file.write(\"Greatest Decrease in Profits: \" + str(months[profit_change. index(min(profit_change))+1]) + \" ($\" + str(decrease) + \")\" + \"\\n\")\n",
    "file.write(\"----------------------------------------------------------\" + \"\\n\")\n",
    "file.close()"
   ]
  },
  {
   "cell_type": "code",
   "execution_count": null,
   "id": "c7b01dc5-dd64-4cc3-8e11-8198099bf151",
   "metadata": {},
   "outputs": [],
   "source": []
  }
 ],
 "metadata": {
  "kernelspec": {
   "display_name": "Python 3 (ipykernel)",
   "language": "python",
   "name": "python3"
  },
  "language_info": {
   "codemirror_mode": {
    "name": "ipython",
    "version": 3
   },
   "file_extension": ".py",
   "mimetype": "text/x-python",
   "name": "python",
   "nbconvert_exporter": "python",
   "pygments_lexer": "ipython3",
   "version": "3.7.13"
  }
 },
 "nbformat": 4,
 "nbformat_minor": 5
}
